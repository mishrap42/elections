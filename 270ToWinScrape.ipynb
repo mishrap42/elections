{
 "cells": [
  {
   "cell_type": "code",
   "execution_count": 10,
   "metadata": {
    "collapsed": false
   },
   "outputs": [],
   "source": [
    "import time\n",
    "from selenium import webdriver\n",
    "from selenium.webdriver.common.by import By\n",
    "from selenium.webdriver.support.ui import WebDriverWait\n",
    "from selenium.webdriver.support import expected_conditions as EC\n",
    "from selenium.common.exceptions import TimeoutException, StaleElementReferenceException\n",
    "import selenium.webdriver as webdriver                                           \n",
    "import selenium.webdriver.support.ui as ui\n",
    "import csv"
   ]
  },
  {
   "cell_type": "code",
   "execution_count": 27,
   "metadata": {
    "collapsed": true
   },
   "outputs": [],
   "source": [
    "driver = webdriver.Chrome('/Users/prakashmishra/Downloads/chromedriver')\n",
    "\n",
    "def open_address(driver, state):\n",
    "    driver.get(\n",
    "        ''.join(['http://www.270towin.com/2016-polls-clinton-trump/', state])\n",
    "        )"
   ]
  },
  {
   "cell_type": "code",
   "execution_count": 7,
   "metadata": {
    "collapsed": false
   },
   "outputs": [],
   "source": [
    "states = ['Alabama', 'Alaska', 'Arizona', 'Arkansas', 'California', 'Colorado', 'Connecticut', \n",
    "          'Delaware', 'District_of_Columbia', 'Florida', 'Georgia', 'Hawaii', 'Idaho', 'Illinois', \n",
    "          'Indiana', 'Iowa', 'Kansas', 'Kentucky', 'Louisiana', 'Maine', 'Maryland', 'Massachusetts', \n",
    "          'Michigan', 'Minnesota', 'Mississippi', 'Missouri', 'Montana', 'Nebraska', 'Nevada', 'New_Hampshire', \n",
    "          'New_Jersey', 'New_Mexico', 'New_York', 'North_Carolina', 'North_Dakota', 'Ohio', 'Oklahoma', 'Oregon',\n",
    "          'Pennsylvania', 'Rhode_Island', 'South_Carolina', 'South_Dakota', 'Tennessee', 'Texas', 'Utah', \n",
    "          'Vermont', 'Virginia', 'Washington', 'West_Virginia', 'Wisconsin', 'Wyoming']\n",
    "not_repped = ['Alabama', 'District_of_Columbia', 'Hawaii', 'Montana', 'Nebraska', 'North_Dakota',\n",
    "              'Oklahoma', 'Rhode_Island', 'South_Dakota', 'Wyoming']\n",
    "# xpath = \"//td | //*[(@id = 'polls')]//div\"\n",
    "states_wanted = [x for x in states if x not in not_repped]\n",
    "states_wanted = [x.lower() for x in states_wanted]"
   ]
  },
  {
   "cell_type": "code",
   "execution_count": 120,
   "metadata": {
    "collapsed": false
   },
   "outputs": [
    {
     "name": "stdout",
     "output_type": "stream",
     "text": [
      "['Alaska Dispatch News', ['44%'], ['49%'], ['7%']]\n"
     ]
    }
   ],
   "source": [
    "# for state in states_wanted:\n",
    "state = states_wanted[0]\n",
    "open_address(driver, state)\n",
    "blah = driver.find_elements(By.XPATH, \"//*[@id='poll_avg_row']\")\n",
    "name = driver.find_element_by_xpath(\"/html/body/div[@id='wrapper']/div[@class='poll-results']\\\n",
    "                                        /div[@class='polls-wrapper'][1]/div[1]/table[@id='polls']\\\n",
    "                                        /tbody/tr[2]/td[1]/div[2]/a[@class='red_links']\")\n",
    "dem_per = driver.find_elements(By.CSS_SELECTOR, \"td.can_percent.dem\")\n",
    "rep_per = driver.find_elements(By.CSS_SELECTOR, \"td.can_percent.rep\")\n",
    "other = driver.find_elements(By.CSS_SELECTOR, \"td.can_percent.leftover\")\n",
    "dems = [d.text for d in dem_per]\n",
    "reps = [r.text for r in rep_per]\n",
    "others = [o.text for o in other]\n",
    "print([name.text, dems, reps, others])"
   ]
  },
  {
   "cell_type": "markdown",
   "metadata": {},
   "source": [
    "Now we have one row."
   ]
  },
  {
   "cell_type": "code",
   "execution_count": 131,
   "metadata": {
    "collapsed": false
   },
   "outputs": [
    {
     "name": "stdout",
     "output_type": "stream",
     "text": [
      "[['GQR Research', 'Public Policy', 'OH Predictive Insights', 'Public Policy', 'Rocky Mountain Poll', 'Merrill Poll', 'GQR Research'], ['43%', '40%', '47%', '41%', '42%', '38%', '39%'], ['48%', '44%', '42%', '45%', '35%', '38%', '45%'], ['9%', '16%', '11%', '14%', '23%', '24%', '6%']]\n"
     ]
    }
   ],
   "source": [
    "state = states_wanted[1]\n",
    "open_address(driver, state)\n",
    "blah = driver.find_elements(By.XPATH, \"//*[@id='poll_avg_row']\")\n",
    "name = driver.find_elements(By.CSS_SELECTOR, \"a.red_links\")\n",
    "# name = driver.find_element_by_xpath(\"/html/body/div[@id='wrapper']/div[@class='poll-results']\\\n",
    "#                                         /div[@class='polls-wrapper'][1]/div[1]/table[@id='polls']\\\n",
    "#                                         /tbody/tr[2]/td[1]/div[2]/a[@class='red_links']\")\n",
    "dem_per = driver.find_elements(By.CSS_SELECTOR, \"td.can_percent.dem\")\n",
    "rep_per = driver.find_elements(By.CSS_SELECTOR, \"td.can_percent.rep\")\n",
    "other = driver.find_elements(By.CSS_SELECTOR, \"td.can_percent.leftover\")\n",
    "dems = [d.text for d in dem_per]\n",
    "reps = [r.text for r in rep_per]\n",
    "others = [o.text for o in other]\n",
    "name = name[1:len(name)]\n",
    "name = [n.text for n in name]\n",
    "# for i in range(len(dems)):\n",
    "#     name = driver.find_element_by_xpath(\"/html/body/div[@id='wrapper']/div[@class='poll-results']\\\n",
    "#                                         /div[@class='polls-wrapper'][1]/div[1]/table[@id='polls']\\\n",
    "#                                         /tbody/tr[\"+ str(i + 2) + \"]/td[1]/div[2]/a[@class='red_links']\")\n",
    "# name = [n.text for n in name]\n",
    "print([name, dems, reps, others])"
   ]
  },
  {
   "cell_type": "markdown",
   "metadata": {},
   "source": [
    "Now we have all the entries."
   ]
  },
  {
   "cell_type": "code",
   "execution_count": 28,
   "metadata": {
    "collapsed": false
   },
   "outputs": [],
   "source": [
    "import numpy as np\n",
    "f = open('270towin.csv','wb')\n",
    "polls = {}\n",
    "keys = ['name', 'dems', 'reps', 'others']\n",
    "all_keys = []\n",
    "for state in states_wanted:\n",
    "    open_address(driver, state)\n",
    "    time.sleep(2)\n",
    "    try:\n",
    "        blah = driver.find_elements(By.XPATH, \"//*[@id='poll_avg_row']\")\n",
    "    except TypeError:\n",
    "        blah = driver.find_elements(By.XPATH, \"/html/body/div[@id='wrapper']/\\\n",
    "                                                div[@class='poll-results']/\\\n",
    "                                                div[@class='polls-wrapper'][1]/\\\n",
    "                                                div[1]/table[@id='polls']/thead/tr/th[1]\")\n",
    "    name = [x.text for x in np.array(driver.find_elements(By.CSS_SELECTOR, \"a.red_links\"))[1:]]\n",
    "    # name = driver.find_element_by_xpath(\"/html/body/div[@id='wrapper']/div[@class='poll-results']\\\n",
    "    #                                         /div[@class='polls-wrapper'][1]/div[1]/table[@id='polls']\\\n",
    "    #                                         /tbody/tr[2]/td[1]/div[2]/a[@class='red_links']\")\n",
    "    dems = [d.text for d in driver.find_elements(By.CSS_SELECTOR, \"td.can_percent.dem\")]\n",
    "    reps = [r.text for r in driver.find_elements(By.CSS_SELECTOR, \"td.can_percent.rep\")]\n",
    "    try: \n",
    "        others = [o.text for o in driver.find_elements(By.CSS_SELECTOR, \"td.can_percent.leftover\")]\n",
    "    except StaleElementReferenceException:\n",
    "        others = [o.text for o in driver.find_elements(By.CSS_SELECTOR, \"td.can_percent.leftover\")]\n",
    "#     name = name[1:len(name)]\n",
    "#     name = [n.text for n in name]\n",
    "    # for i in range(len(dems)):\n",
    "    #     name = driver.find_element_by_xpath(\"/html/body/div[@id='wrapper']/div[@class='poll-results']\\\n",
    "    #                                         /div[@class='polls-wrapper'][1]/div[1]/table[@id='polls']\\\n",
    "    #                                         /tbody/tr[\"+ str(i + 2) + \"]/td[1]/div[2]/a[@class='red_links']\")\n",
    "    # name = [n.text for n in name]\n",
    "    this_val = [name, dems, reps, others]\n",
    "    for i, key in enumerate(keys):\n",
    "        polls[''.join([state,key])] = this_val[i]\n",
    "        all_keys.append(''.join([state,key]))"
   ]
  },
  {
   "cell_type": "code",
   "execution_count": 31,
   "metadata": {
    "collapsed": false
   },
   "outputs": [
    {
     "ename": "ValueError",
     "evalue": "dict contains fields not in fieldnames: 'w', 'e', 's', 't', '_', 'v', 'i', 'r', 'g', 'i', 'n', 'i', 'a', 'r', 'e', 'p', 's'",
     "output_type": "error",
     "traceback": [
      "\u001b[0;31m---------------------------------------------------------------------------\u001b[0m",
      "\u001b[0;31mValueError\u001b[0m                                Traceback (most recent call last)",
      "\u001b[0;32m<ipython-input-31-b8b9e516d994>\u001b[0m in \u001b[0;36m<module>\u001b[0;34m()\u001b[0m\n\u001b[1;32m      1\u001b[0m \u001b[0mw\u001b[0m \u001b[0;34m=\u001b[0m \u001b[0mcsv\u001b[0m\u001b[0;34m.\u001b[0m\u001b[0mDictWriter\u001b[0m\u001b[0;34m(\u001b[0m\u001b[0mf\u001b[0m\u001b[0;34m,\u001b[0m\u001b[0mall_keys\u001b[0m\u001b[0;34m)\u001b[0m\u001b[0;34m\u001b[0m\u001b[0m\n\u001b[1;32m      2\u001b[0m \u001b[0;32mfor\u001b[0m \u001b[0mrow\u001b[0m \u001b[0;32min\u001b[0m \u001b[0mpolls\u001b[0m\u001b[0;34m:\u001b[0m\u001b[0;34m\u001b[0m\u001b[0m\n\u001b[0;32m----> 3\u001b[0;31m     \u001b[0mw\u001b[0m\u001b[0;34m.\u001b[0m\u001b[0mwriterow\u001b[0m\u001b[0;34m(\u001b[0m\u001b[0mrow\u001b[0m\u001b[0;34m)\u001b[0m\u001b[0;34m\u001b[0m\u001b[0m\n\u001b[0m\u001b[1;32m      4\u001b[0m \u001b[0mf\u001b[0m\u001b[0;34m.\u001b[0m\u001b[0mclose\u001b[0m\u001b[0;34m(\u001b[0m\u001b[0;34m)\u001b[0m\u001b[0;34m\u001b[0m\u001b[0m\n",
      "\u001b[0;32m/Users/prakashmishra/miniconda3/envs/dialectic/lib/python3.5/csv.py\u001b[0m in \u001b[0;36mwriterow\u001b[0;34m(self, rowdict)\u001b[0m\n\u001b[1;32m    151\u001b[0m \u001b[0;34m\u001b[0m\u001b[0m\n\u001b[1;32m    152\u001b[0m     \u001b[0;32mdef\u001b[0m \u001b[0mwriterow\u001b[0m\u001b[0;34m(\u001b[0m\u001b[0mself\u001b[0m\u001b[0;34m,\u001b[0m \u001b[0mrowdict\u001b[0m\u001b[0;34m)\u001b[0m\u001b[0;34m:\u001b[0m\u001b[0;34m\u001b[0m\u001b[0m\n\u001b[0;32m--> 153\u001b[0;31m         \u001b[0;32mreturn\u001b[0m \u001b[0mself\u001b[0m\u001b[0;34m.\u001b[0m\u001b[0mwriter\u001b[0m\u001b[0;34m.\u001b[0m\u001b[0mwriterow\u001b[0m\u001b[0;34m(\u001b[0m\u001b[0mself\u001b[0m\u001b[0;34m.\u001b[0m\u001b[0m_dict_to_list\u001b[0m\u001b[0;34m(\u001b[0m\u001b[0mrowdict\u001b[0m\u001b[0;34m)\u001b[0m\u001b[0;34m)\u001b[0m\u001b[0;34m\u001b[0m\u001b[0m\n\u001b[0m\u001b[1;32m    154\u001b[0m \u001b[0;34m\u001b[0m\u001b[0m\n\u001b[1;32m    155\u001b[0m     \u001b[0;32mdef\u001b[0m \u001b[0mwriterows\u001b[0m\u001b[0;34m(\u001b[0m\u001b[0mself\u001b[0m\u001b[0;34m,\u001b[0m \u001b[0mrowdicts\u001b[0m\u001b[0;34m)\u001b[0m\u001b[0;34m:\u001b[0m\u001b[0;34m\u001b[0m\u001b[0m\n",
      "\u001b[0;32m/Users/prakashmishra/miniconda3/envs/dialectic/lib/python3.5/csv.py\u001b[0m in \u001b[0;36m_dict_to_list\u001b[0;34m(self, rowdict)\u001b[0m\n\u001b[1;32m    147\u001b[0m             \u001b[0;32mif\u001b[0m \u001b[0mwrong_fields\u001b[0m\u001b[0;34m:\u001b[0m\u001b[0;34m\u001b[0m\u001b[0m\n\u001b[1;32m    148\u001b[0m                 raise ValueError(\"dict contains fields not in fieldnames: \"\n\u001b[0;32m--> 149\u001b[0;31m                                  + \", \".join([repr(x) for x in wrong_fields]))\n\u001b[0m\u001b[1;32m    150\u001b[0m         \u001b[0;32mreturn\u001b[0m \u001b[0;34m(\u001b[0m\u001b[0mrowdict\u001b[0m\u001b[0;34m.\u001b[0m\u001b[0mget\u001b[0m\u001b[0;34m(\u001b[0m\u001b[0mkey\u001b[0m\u001b[0;34m,\u001b[0m \u001b[0mself\u001b[0m\u001b[0;34m.\u001b[0m\u001b[0mrestval\u001b[0m\u001b[0;34m)\u001b[0m \u001b[0;32mfor\u001b[0m \u001b[0mkey\u001b[0m \u001b[0;32min\u001b[0m \u001b[0mself\u001b[0m\u001b[0;34m.\u001b[0m\u001b[0mfieldnames\u001b[0m\u001b[0;34m)\u001b[0m\u001b[0;34m\u001b[0m\u001b[0m\n\u001b[1;32m    151\u001b[0m \u001b[0;34m\u001b[0m\u001b[0m\n",
      "\u001b[0;31mValueError\u001b[0m: dict contains fields not in fieldnames: 'w', 'e', 's', 't', '_', 'v', 'i', 'r', 'g', 'i', 'n', 'i', 'a', 'r', 'e', 'p', 's'"
     ]
    }
   ],
   "source": [
    "w = csv.DictWriter(f,all_keys)\n",
    "for row in polls:\n",
    "    w.writerow(row)\n",
    "f.close()"
   ]
  },
  {
   "cell_type": "code",
   "execution_count": 41,
   "metadata": {
    "collapsed": false
   },
   "outputs": [],
   "source": [
    "import numpy as np\n",
    "f = open('270towin.csv','w')\n",
    "keys = ['name', 'dems', 'reps', 'others', 'state']\n",
    "w = csv.DictWriter(f,keys)\n",
    "all_keys = []\n",
    "for state in states_wanted:\n",
    "    polls = {}\n",
    "    open_address(driver, state)\n",
    "    time.sleep(2)\n",
    "    try:\n",
    "        blah = driver.find_elements(By.XPATH, \"//*[@id='poll_avg_row']\")\n",
    "    except TypeError:\n",
    "        blah = driver.find_elements(By.XPATH, \"/html/body/div[@id='wrapper']/\\\n",
    "                                                div[@class='poll-results']/\\\n",
    "                                                div[@class='polls-wrapper'][1]/\\\n",
    "                                                div[1]/table[@id='polls']/thead/tr/th[1]\")\n",
    "    name = [x.text for x in np.array(driver.find_elements(By.CSS_SELECTOR, \"a.red_links\"))[1:]]\n",
    "    # name = driver.find_element_by_xpath(\"/html/body/div[@id='wrapper']/div[@class='poll-results']\\\n",
    "    #                                         /div[@class='polls-wrapper'][1]/div[1]/table[@id='polls']\\\n",
    "    #                                         /tbody/tr[2]/td[1]/div[2]/a[@class='red_links']\")\n",
    "    dems = [d.text for d in driver.find_elements(By.CSS_SELECTOR, \"td.can_percent.dem\")]\n",
    "    reps = [r.text for r in driver.find_elements(By.CSS_SELECTOR, \"td.can_percent.rep\")]\n",
    "    try: \n",
    "        others = [o.text for o in driver.find_elements(By.CSS_SELECTOR, \"td.can_percent.leftover\")]\n",
    "    except StaleElementReferenceException:\n",
    "        others = [o.text for o in driver.find_elements(By.CSS_SELECTOR, \"td.can_percent.leftover\")]\n",
    "#     name = name[1:len(name)]\n",
    "#     name = [n.text for n in name]\n",
    "    # for i in range(len(dems)):\n",
    "    #     name = driver.find_element_by_xpath(\"/html/body/div[@id='wrapper']/div[@class='poll-results']\\\n",
    "    #                                         /div[@class='polls-wrapper'][1]/div[1]/table[@id='polls']\\\n",
    "    #                                         /tbody/tr[\"+ str(i + 2) + \"]/td[1]/div[2]/a[@class='red_links']\")\n",
    "    # name = [n.text for n in name]\n",
    "    this_val = [name, dems, reps, others]\n",
    "    for i,j in enumerate(dems):\n",
    "            polls['name'] = name[i]\n",
    "            polls['dems'] = j\n",
    "            polls['reps'] = reps[i]\n",
    "            polls['others'] = others[i]\n",
    "            polls['state'] = state\n",
    "            w.writerow(polls)\n",
    "    del polls"
   ]
  },
  {
   "cell_type": "code",
   "execution_count": 42,
   "metadata": {
    "collapsed": false
   },
   "outputs": [],
   "source": [
    "f.close()"
   ]
  },
  {
   "cell_type": "code",
   "execution_count": 43,
   "metadata": {
    "collapsed": false
   },
   "outputs": [
    {
     "data": {
      "text/plain": [
       "[<selenium.webdriver.remote.webelement.WebElement (session=\"039de36d1c19986767c8c7abfecff24b\", element=\"0.17216816531798607-1\")>,\n",
       " <selenium.webdriver.remote.webelement.WebElement (session=\"039de36d1c19986767c8c7abfecff24b\", element=\"0.17216816531798607-2\")>]"
      ]
     },
     "execution_count": 43,
     "metadata": {},
     "output_type": "execute_result"
    }
   ],
   "source": [
    "blah"
   ]
  },
  {
   "cell_type": "code",
   "execution_count": null,
   "metadata": {
    "collapsed": true
   },
   "outputs": [],
   "source": []
  }
 ],
 "metadata": {
  "kernelspec": {
   "display_name": "Python (dialectic)",
   "language": "python",
   "name": "myenv"
  },
  "language_info": {
   "codemirror_mode": {
    "name": "ipython",
    "version": 3
   },
   "file_extension": ".py",
   "mimetype": "text/x-python",
   "name": "python",
   "nbconvert_exporter": "python",
   "pygments_lexer": "ipython3",
   "version": "3.5.2"
  }
 },
 "nbformat": 4,
 "nbformat_minor": 0
}
